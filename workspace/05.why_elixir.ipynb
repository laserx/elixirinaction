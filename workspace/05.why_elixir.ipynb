{
 "cells": [
  {
   "cell_type": "markdown",
   "metadata": {},
   "source": [
    "# elixir 函数式编程语言\n",
    "\n",
    "## Financial Team TWIL Shared\n",
    "\n",
    "> Shared by [laserx](https://github.com/laserx)\n",
    "\n",
    "## 参考\n",
    "\n",
    "* [A week with Elixir](https://joearms.github.io/#2013-05-31%20A%20week%20with%20Elixir)\n",
    "* [Why You Too Should Learn Elixir](https://mixandgo.com/learn/why-you-too-should-learn-elixir)\n",
    "* [github: ovrmrw/elixir_file_read_eager_lazy_flow](https://github.com/ovrmrw/elixir_file_read_eager_lazy_flow)\n",
    "* [Measuring And Visualizing Genstage/flow With Gnuplot](http://teamon.eu/2016/measuring-visualizing-genstage-flow-with-gnuplot/)\n",
    "* [How Discord Handles Two and Half Million Concurrent Voice Users using WebRTC](https://blog.discordapp.com/how-discord-handles-two-and-half-million-concurrent-voice-users-using-webrtc-ce01c3187429)\n",
    "* [How Discord Scaled Elixir to 5,000,000 Concurrent Users](https://blog.discordapp.com/scaling-elixir-f9b8e1e7c29b)\n",
    "\n",
    "---"
   ]
  },
  {
   "cell_type": "code",
   "execution_count": 1,
   "metadata": {},
   "outputs": [
    {
     "data": {
      "text/plain": [
       "\"Measuring And Visualizing Genstage/flow With Gnuplot\""
      ]
     },
     "execution_count": 1,
     "metadata": {},
     "output_type": "execute_result"
    }
   ],
   "source": [
    "\"MEASURING AND VISUALIZING GENSTAGE/FLOW WITH GNUPLOT\"\n",
    "|> String.split(\" \")\n",
    "|> Enum.map(&String.capitalize/1)\n",
    "|> Enum.join(\" \")"
   ]
  },
  {
   "cell_type": "markdown",
   "metadata": {},
   "source": [
    "## 背景\n",
    "\n",
    "elixir 是一门利用 erlang VM (beam) 开发的动态函数, 兼具了 erlang 的大量特性, 比如并发能力, 容错, 热更新, 分布式特性等.\n",
    "\n",
    "个人接触 elixir 的时间大约是在16年左右, 当时对 elixir 完全没有了解的前提下, 参加了一个线下分享活动, 当时的分享者着重分享了 elixir 中的 macro. 当时浅尝即止, 没有做过多的深入探索. 当17年的时候, 接触到了 elixir 的一个库, 叫做 flow, 主要用于进行单机并行计算. 在此之后, 重燃对 elixir 的兴趣.\n",
    "\n",
    "erlang 作为存在了30余年的语言, 语言学习曲线陡峭, 语法与主流语言差异较大, 劝退大量开发者, 但其优秀的语言特性, erlang/OTP 整体设计的质量等等优点让这门语言散发着光芒. elixir 出现弥补了部分语法的困扰.\n",
    "\n",
    "elixir 语言的作者是 [José Valim](https://github.com/josevalim), 原 Rails core team 成员, 所以, elixir 在语法上有着非常明显的 ruby 语法的痕迹, 但除此以外, 其和 ruby 基本没有什么过多的相似性.\n",
    "\n",
    "---"
   ]
  },
  {
   "cell_type": "markdown",
   "metadata": {},
   "source": [
    "## 基本概念\n",
    "\n",
    "### 命令式编程和函数编程\n",
    "\n",
    "imperative 和 functional 这两种编程范式存在已久, 我们接触的大多数编程语言都是命令式编程范畴的语言, 纯函数式语言主要为 haskell, 而 elixir 或者说 erlang 并不是纯函数式语言, 我们平时谈论的 clojure, scala 等, 大多不能称之为纯函数语言.\n",
    "\n",
    "### 不可变性与模式匹配\n",
    "\n",
    "immutable 是大多数函数式语言的基本特性, 其本质是, 当变量 X 被创建后, 其的值不可更改. "
   ]
  },
  {
   "cell_type": "code",
   "execution_count": null,
   "metadata": {},
   "outputs": [],
   "source": []
  }
 ],
 "metadata": {
  "kernelspec": {
   "display_name": "Elixir",
   "language": "Elixir",
   "name": "ielixir"
  },
  "language_info": {
   "codemirror_mode": "elixir",
   "file_extension": "ex",
   "mimetype": "text/x-elixir",
   "name": "elixir",
   "nbconvert_exporter": "",
   "pygments_lexer": "elixir",
   "version": "1.8.1"
  }
 },
 "nbformat": 4,
 "nbformat_minor": 2
}
