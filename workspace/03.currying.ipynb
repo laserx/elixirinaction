{
 "cells": [
  {
   "cell_type": "markdown",
   "metadata": {},
   "source": [
    "# Currying in elixir\n",
    "\n",
    "---\n",
    "\n",
    "## Financial Team TWIL Shared\n",
    "\n",
    "> Shared by [laserx](https://github.com/laserx)\n",
    "\n",
    "## References\n",
    "\n",
    "* [Function currying in Elixir](http://blog.patrikstorm.com/function-currying-in-elixir)\n",
    "* [repo: Qqwy/elixir_currying](https://github.com/Qqwy/elixir_currying)\n",
    "\n",
    "---"
   ]
  },
  {
   "cell_type": "markdown",
   "metadata": {},
   "source": [
    "## Currying\n",
    "\n",
    "Currying is a technique that translates a function of arity N into a sequence of functions that all have the arity 1. Function arity means the number of arguments a function takes."
   ]
  },
  {
   "cell_type": "markdown",
   "metadata": {},
   "source": [
    "### A naive approach\n",
    "\n",
    "Elixir functions are first class, so your function can return them and receive them as values."
   ]
  },
  {
   "cell_type": "code",
   "execution_count": 1,
   "metadata": {},
   "outputs": [
    {
     "data": {
      "text/plain": [
       "#Function<6.128620087/1 in :erl_eval.expr/5>"
      ]
     },
     "execution_count": 1,
     "metadata": {},
     "output_type": "execute_result"
    }
   ],
   "source": [
    "add = fn x ->\n",
    "  fn y -> x + y end\n",
    "end"
   ]
  },
  {
   "cell_type": "code",
   "execution_count": 2,
   "metadata": {},
   "outputs": [
    {
     "data": {
      "text/plain": [
       "#Function<6.128620087/1 in :erl_eval.expr/5>"
      ]
     },
     "execution_count": 2,
     "metadata": {},
     "output_type": "execute_result"
    }
   ],
   "source": [
    "increment = add.(1)"
   ]
  },
  {
   "cell_type": "code",
   "execution_count": 3,
   "metadata": {},
   "outputs": [
    {
     "data": {
      "text/plain": [
       "5"
      ]
     },
     "execution_count": 3,
     "metadata": {},
     "output_type": "execute_result"
    }
   ],
   "source": [
    "increment.(4)"
   ]
  },
  {
   "cell_type": "markdown",
   "metadata": {},
   "source": [
    "This works, but its obvious that we want something more general, and reusable. In fact the above could be considered a plain function that is partially applied."
   ]
  },
  {
   "cell_type": "markdown",
   "metadata": {},
   "source": [
    "### We can do better"
   ]
  },
  {
   "cell_type": "code",
   "execution_count": 4,
   "metadata": {},
   "outputs": [
    {
     "data": {
      "text/plain": [
       "{:module, Curry, <<70, 79, 82, 49, 0, 0, 6, 88, 66, 69, 65, 77, 65, 116, 85, 56, 0, 0, 0, 184, 0, 0, 0, 20, 12, 69, 108, 105, 120, 105, 114, 46, 67, 117, 114, 114, 121, 8, 95, 95, 105, 110, 102, 111, 95, 95, 7, ...>>, {:curry, 3}}"
      ]
     },
     "execution_count": 4,
     "metadata": {},
     "output_type": "execute_result"
    }
   ],
   "source": [
    "defmodule Curry do\n",
    "  def curry(fun) do\n",
    "    {_, arity} = :erlang.fun_info(fun, :arity)\n",
    "    curry(fun, arity, [])\n",
    "  end\n",
    "\n",
    "  def curry(fun, 0, arguments) do\n",
    "    apply(fun, Enum.reverse arguments)\n",
    "  end\n",
    "\n",
    "  def curry(fun, arity, arguments) do\n",
    "    fn arg -> curry(fun, arity - 1, [arg | arguments]) end\n",
    "  end\n",
    "end"
   ]
  },
  {
   "cell_type": "code",
   "execution_count": 5,
   "metadata": {},
   "outputs": [
    {
     "data": {
      "text/plain": [
       "#Function<0.73188802/1 in Curry.curry/3>"
      ]
     },
     "execution_count": 5,
     "metadata": {},
     "output_type": "execute_result"
    }
   ],
   "source": [
    "import Curry\n",
    "\n",
    "curried = curry(fn a, b, c, d -> a * b + div(c, d) end)\n",
    "\n",
    "c = curried.(5).(5).(10)"
   ]
  },
  {
   "cell_type": "code",
   "execution_count": 6,
   "metadata": {},
   "outputs": [
    {
     "data": {
      "text/plain": [
       "35"
      ]
     },
     "execution_count": 6,
     "metadata": {},
     "output_type": "execute_result"
    }
   ],
   "source": [
    "c.(1)"
   ]
  },
  {
   "cell_type": "code",
   "execution_count": 7,
   "metadata": {},
   "outputs": [
    {
     "data": {
      "text/plain": [
       "#Function<0.73188802/1 in Curry.curry/3>"
      ]
     },
     "execution_count": 7,
     "metadata": {},
     "output_type": "execute_result"
    }
   ],
   "source": [
    "import Curry\n",
    "\n",
    "enum_map = curry(&Enum.map/2)"
   ]
  },
  {
   "cell_type": "code",
   "execution_count": 8,
   "metadata": {},
   "outputs": [
    {
     "data": {
      "text/plain": [
       "[1, 4, 9, 16, 25]"
      ]
     },
     "execution_count": 8,
     "metadata": {},
     "output_type": "execute_result"
    }
   ],
   "source": [
    "enum_map.([1, 2, 3, 4, 5]).(fn x -> x * x end)"
   ]
  }
 ],
 "metadata": {
  "kernelspec": {
   "display_name": "Elixir",
   "language": "Elixir",
   "name": "ielixir"
  },
  "language_info": {
   "codemirror_mode": "elixir",
   "file_extension": "ex",
   "mimetype": "text/x-elixir",
   "name": "elixir",
   "nbconvert_exporter": "",
   "pygments_lexer": "elixir",
   "version": "1.8.1"
  }
 },
 "nbformat": 4,
 "nbformat_minor": 2
}
