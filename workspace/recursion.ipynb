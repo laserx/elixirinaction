{
 "cells": [
  {
   "cell_type": "markdown",
   "metadata": {},
   "source": [
    "# Recursion\n",
    "\n",
    "### Loops through recursion\n",
    "\n",
    "loops in Elixir (as in any functional programming language) are written differently from imperative languages.\n",
    "\n",
    "for example, like golang:"
   ]
  },
  {
   "cell_type": "markdown",
   "metadata": {},
   "source": [
    "```go\n",
    "package main\n",
    "\n",
    "import (\n",
    "\t\"fmt\"\n",
    ")\n",
    "\n",
    "func main() {\n",
    "\tarray := []int{1, 2, 3, 4, 5}\n",
    "\n",
    "\tfor i := 0; i < len(array); i++ {\n",
    "\t\tarray[i] = array[i] * 2\n",
    "\t}\n",
    "\n",
    "\tfmt.Println(array)\n",
    "}\n",
    "```"
   ]
  },
  {
   "cell_type": "markdown",
   "metadata": {},
   "source": [
    "In the example above, we are mutating both the array and the variable `i`.\n",
    "\n",
    "Mutating is not possible in Elixir.\n",
    "\n",
    "Instead, functional languages rely on recursion: a function is called recursively until a condition is reached that stops the recursive action from continuing."
   ]
  },
  {
   "cell_type": "code",
   "execution_count": null,
   "metadata": {},
   "outputs": [],
   "source": [
    "defmodule Recursion do\n",
    "\n",
    "  def run(input), do: resolve(input)\n",
    "\n",
    "  defp resolve(input, output \\\\ [])\n",
    "  defp resolve([], []), do: []\n",
    "  defp resolve([h | t], output), do: resolve(t, output ++ [h * 2])\n",
    "  defp resolve([], output), do: output\n",
    "end"
   ]
  },
  {
   "cell_type": "code",
   "execution_count": null,
   "metadata": {},
   "outputs": [],
   "source": [
    "Recursion.run([1, 2, 3, 4, 5])"
   ]
  },
  {
   "cell_type": "code",
   "execution_count": null,
   "metadata": {},
   "outputs": [],
   "source": [
    "Recursion.run([])"
   ]
  },
  {
   "cell_type": "markdown",
   "metadata": {},
   "source": [
    "### Resolve EMA problem\n",
    "\n",
    "\n",
    "An exponential moving average (EMA), also known as an exponentially weighted moving average (EWMA), is a first-order infinite impulse response filter that applies weighting factors which decrease exponentially. The weighting for each older datum decreases exponentially, never reaching zero. The graph at right shows an example of the weight decrease.\n",
    "\n",
    "The EMA for a series Y may be calculated recursively:\n",
    "\n",
    "\\begin{align}S_t = \\begin{cases}\n",
    " Y_1,                                           &t = 1 \\\\\n",
    " \\alpha \\cdot Y_t + (1 - \\alpha) \\cdot S_{t-1}, &t > 1\n",
    "\\end{cases}\\end{align}\n",
    "\n",
    "\\begin{align}\\alpha ={2 \\over N+1}\\end{align}\n",
    "\n"
   ]
  },
  {
   "cell_type": "code",
   "execution_count": null,
   "metadata": {},
   "outputs": [],
   "source": [
    "defmodule Indicatorex.EMA do\n",
    "  @type t :: %Indicatorex.EMA{span: integer, v: [float]}\n",
    "  defstruct span: 0, v: []\n",
    "\n",
    "  @spec calc([number()], number()) :: {:error, String.t()} | {:ok, Indicatorex.EMA.t()}\n",
    "  def calc(data, span) when span >= 1, do: run(data, span)\n",
    "  def calc(_, span), do: {:error, \"span value: #{span}. span must above 1\"}\n",
    "\n",
    "  @spec calc(number(), number(), number()) :: float()\n",
    "  def calc(close, pre, span),\n",
    "    do: (2 * close + (span - 1) * pre) / (span + 1)\n",
    "\n",
    "  defp run(data, span, resp \\\\ [])\n",
    "  defp run([], _span, []), do: {:error, \"empty\"}\n",
    "  defp run([], span, resp), do: {:ok, %Indicatorex.EMA{span: span, v: resp}}\n",
    "  defp run([h | t], span, []), do: run(t, span, [h / 1])\n",
    "\n",
    "  defp run([h | t], span, resp) do\n",
    "    [pre] = Enum.take(resp, -1)\n",
    "    new = calc(h, pre, span)\n",
    "    run(t, span, resp ++ [new])\n",
    "  end\n",
    "end"
   ]
  },
  {
   "cell_type": "code",
   "execution_count": null,
   "metadata": {},
   "outputs": [],
   "source": [
    "Enum.to_list(1..100) |> Indicatorex.EMA.calc(7)"
   ]
  }
 ],
 "metadata": {
  "kernelspec": {
   "display_name": "Elixir",
   "language": "Elixir",
   "name": "ielixir"
  },
  "language_info": {
   "codemirror_mode": "elixir",
   "file_extension": "ex",
   "mimetype": "text/x-elixir",
   "name": "elixir",
   "nbconvert_exporter": "",
   "pygments_lexer": "elixir",
   "version": "1.8.1"
  }
 },
 "nbformat": 4,
 "nbformat_minor": 2
}
