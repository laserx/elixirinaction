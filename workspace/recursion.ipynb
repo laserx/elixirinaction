{
 "cells": [
  {
   "cell_type": "markdown",
   "metadata": {},
   "source": [
    "# Recursion\n",
    "\n",
    "---\n",
    "\n",
    "## Financial Team TWIL\n",
    "\n",
    "> Shared by [laserx@github](https://github.com/laserx)\n",
    "\n",
    "## References\n",
    "\n",
    "* [Elixir offical guides (recursion)](https://elixir-lang.org/getting-started/recursion.html)\n",
    "* [Weighted moving average](https://en.wikipedia.org/wiki/Moving_average#Weighted_moving_average)\n",
    "\n",
    "---"
   ]
  },
  {
   "cell_type": "markdown",
   "metadata": {},
   "source": [
    "## Loops through recursion\n",
    "\n",
    "loops in Elixir (as in any functional programming language) are written differently from imperative languages.\n",
    "\n",
    "for example, like golang:"
   ]
  },
  {
   "cell_type": "markdown",
   "metadata": {},
   "source": [
    "```go\n",
    "package main\n",
    "\n",
    "import (\n",
    "\t\"fmt\"\n",
    ")\n",
    "\n",
    "func main() {\n",
    "\tarray := []int{1, 2, 3, 4, 5}\n",
    "\n",
    "\tfor i := 0; i < len(array); i++ {\n",
    "\t\tarray[i] = array[i] * 2\n",
    "\t}\n",
    "\n",
    "\tfmt.Println(array)\n",
    "}\n",
    "```"
   ]
  },
  {
   "cell_type": "markdown",
   "metadata": {},
   "source": [
    "In the example above, we are mutating both the array and the variable `i`.\n",
    "\n",
    "Mutating is not possible in Elixir.\n",
    "\n",
    "Instead, functional languages rely on recursion: a function is called recursively until a condition is reached that stops the recursive action from continuing."
   ]
  },
  {
   "cell_type": "code",
   "execution_count": 1,
   "metadata": {},
   "outputs": [
    {
     "data": {
      "text/plain": [
       "{:module, Recursion, <<70, 79, 82, 49, 0, 0, 5, 120, 66, 69, 65, 77, 65, 116, 85, 56, 0, 0, 0, 140, 0, 0, 0, 16, 16, 69, 108, 105, 120, 105, 114, 46, 82, 101, 99, 117, 114, 115, 105, 111, 110, 8, 95, 95, 105, 110, 102, ...>>, {:resolve, 2}}"
      ]
     },
     "execution_count": 1,
     "metadata": {},
     "output_type": "execute_result"
    }
   ],
   "source": [
    "defmodule Recursion do\n",
    "\n",
    "  def run(input), do: resolve(input)\n",
    "\n",
    "  defp resolve(input, output \\\\ [])\n",
    "  defp resolve([], []), do: []\n",
    "  defp resolve([h | t], output), do: resolve(t, output ++ [h * 2])\n",
    "  defp resolve([], output), do: output\n",
    "end"
   ]
  },
  {
   "cell_type": "code",
   "execution_count": 2,
   "metadata": {},
   "outputs": [
    {
     "data": {
      "text/plain": [
       "[2, 4, 6, 8, 10]"
      ]
     },
     "execution_count": 2,
     "metadata": {},
     "output_type": "execute_result"
    }
   ],
   "source": [
    "Recursion.run([1, 2, 3, 4, 5])"
   ]
  },
  {
   "cell_type": "code",
   "execution_count": 3,
   "metadata": {},
   "outputs": [
    {
     "data": {
      "text/plain": [
       "[]"
      ]
     },
     "execution_count": 3,
     "metadata": {},
     "output_type": "execute_result"
    }
   ],
   "source": [
    "Recursion.run([])"
   ]
  },
  {
   "cell_type": "markdown",
   "metadata": {},
   "source": [
    "## Resolve EMA problem\n",
    "\n",
    "\n",
    "An exponential moving average (EMA), also known as an exponentially weighted moving average (EWMA), is a first-order infinite impulse response filter that applies weighting factors which decrease exponentially. The weighting for each older datum decreases exponentially, never reaching zero. The graph at right shows an example of the weight decrease.\n",
    "\n",
    "The EMA for a series Y may be calculated recursively:\n",
    "\n",
    "\\begin{align}S_t = \\begin{cases}\n",
    " Y_1,                                           &t = 1 \\\\\n",
    " \\alpha \\cdot Y_t + (1 - \\alpha) \\cdot S_{t-1}, &t > 1\n",
    "\\end{cases}\\end{align}\n",
    "\n",
    "\\begin{align}\\alpha ={2 \\over N+1}\\end{align}\n",
    "\n"
   ]
  },
  {
   "cell_type": "code",
   "execution_count": 4,
   "metadata": {},
   "outputs": [
    {
     "data": {
      "text/plain": [
       "{:module, Indicatorex.EMA, <<70, 79, 82, 49, 0, 0, 12, 80, 66, 69, 65, 77, 65, 116, 85, 56, 0, 0, 1, 19, 0, 0, 0, 33, 22, 69, 108, 105, 120, 105, 114, 46, 73, 110, 100, 105, 99, 97, 116, 111, 114, 101, 120, 46, 69, 77, 65, ...>>, {:run, 3}}"
      ]
     },
     "execution_count": 4,
     "metadata": {},
     "output_type": "execute_result"
    }
   ],
   "source": [
    "defmodule Indicatorex.EMA do\n",
    "  @type t :: %Indicatorex.EMA{span: integer, v: [float]}\n",
    "  defstruct span: 0, v: []\n",
    "\n",
    "  @spec calc([number()], number()) :: {:error, String.t()} | {:ok, Indicatorex.EMA.t()}\n",
    "  def calc(data, span) when span >= 1, do: run(data, span)\n",
    "  def calc(_, span), do: {:error, \"span value: #{span}. span must above 1\"}\n",
    "\n",
    "  @spec calc(number(), number(), number()) :: float()\n",
    "  def calc(close, pre, span),\n",
    "    do: (2 * close + (span - 1) * pre) / (span + 1)\n",
    "\n",
    "  defp run(data, span, resp \\\\ [])\n",
    "  defp run([], _span, []), do: {:error, \"empty\"}\n",
    "  defp run([], span, resp), do: {:ok, %Indicatorex.EMA{span: span, v: resp}}\n",
    "  defp run([h | t], span, []), do: run(t, span, [h / 1])\n",
    "\n",
    "  defp run([h | t], span, resp) do\n",
    "    [pre] = Enum.take(resp, -1)\n",
    "    new = calc(h, pre, span)\n",
    "    run(t, span, resp ++ [new])\n",
    "  end\n",
    "end"
   ]
  },
  {
   "cell_type": "code",
   "execution_count": 5,
   "metadata": {},
   "outputs": [
    {
     "data": {
      "text/plain": [
       "{:ok, %Indicatorex.EMA{span: 7, v: [1.0, 1.25, 1.6875, 2.265625, 2.94921875, 3.7119140625, 4.533935546875, 5.40045166015625, 6.3003387451171875, 7.225254058837891, 8.168940544128418, 9.126705408096313, 10.095029056072235, 11.071271792054176, 12.053453844040632, 13.040090383030474, 14.030067787272856, 15.022550840454642, 16.01691313034098, 17.012684847755736, 18.009513635816802, 19.0071352268626, 20.00535142014695, 21.004013565110213, 22.00301017383266, 23.002257630374494, 24.001693222780872, 25.001269917085654, 26.00095243781424, 27.00071432836068, 28.000535746270508, 29.00040180970288, 30.00030135727716, 31.00022601795787, 32.00016951346841, 33.00012713510131, 34.00009535132598, 35.00007151349449, 36.000053635120864, 37.000040226340644, 38.00003016975548, 39.00002262731661, 40.00001697048746, 41.000012727865595, 42.000009545899196, 43.0000071594244, ...]}}"
      ]
     },
     "execution_count": 5,
     "metadata": {},
     "output_type": "execute_result"
    }
   ],
   "source": [
    "Enum.to_list(1..100) |> Indicatorex.EMA.calc(7)"
   ]
  }
 ],
 "metadata": {
  "kernelspec": {
   "display_name": "Elixir",
   "language": "Elixir",
   "name": "ielixir"
  },
  "language_info": {
   "codemirror_mode": "elixir",
   "file_extension": "ex",
   "mimetype": "text/x-elixir",
   "name": "elixir",
   "nbconvert_exporter": "",
   "pygments_lexer": "elixir",
   "version": "1.8.1"
  }
 },
 "nbformat": 4,
 "nbformat_minor": 2
}
