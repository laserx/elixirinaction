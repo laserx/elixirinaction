{
 "cells": [
  {
   "cell_type": "markdown",
   "metadata": {},
   "source": [
    "# Concurrency models: Actor, STM and CSP\n",
    "\n",
    "---\n",
    "\n",
    "## Financial Team TWIL Shared\n",
    "\n",
    "> Shared by [laserx@github](https://github.com/laserx)\n",
    "\n",
    "## References\n",
    "\n",
    "* [clojure offical guide: Refs and Transactions](https://clojure.org/reference/refs)\n",
    "* [The actor model in 10 minutes](https://www.brianstorti.com/the-actor-model/)\n",
    "* [elixir offical guide: Processes](https://elixir-lang.org/getting-started/processes.html#spawn)\n",
    "\n",
    "---"
   ]
  },
  {
   "cell_type": "markdown",
   "metadata": {},
   "source": [
    "## STM"
   ]
  }
 ],
 "metadata": {
  "kernelspec": {
   "display_name": "Elixir",
   "language": "Elixir",
   "name": "ielixir"
  },
  "language_info": {
   "codemirror_mode": "elixir",
   "file_extension": "ex",
   "mimetype": "text/x-elixir",
   "name": "elixir",
   "nbconvert_exporter": "",
   "pygments_lexer": "elixir",
   "version": "1.8.1"
  }
 },
 "nbformat": 4,
 "nbformat_minor": 2
}
