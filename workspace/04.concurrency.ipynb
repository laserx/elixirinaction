{
 "cells": [
  {
   "cell_type": "markdown",
   "metadata": {},
   "source": [
    "# Concurrency models: Actor, STM and CSP\n",
    "\n",
    "---\n",
    "\n",
    "## Financial Team TWIL Shared\n",
    "\n",
    "> Shared by [laserx](https://github.com/laserx)\n",
    "\n",
    "## References\n",
    "\n",
    "* [Clojure offical guide: Refs and Transactions](https://clojure.org/reference/refs)\n",
    "* [The actor model in 10 minutes](https://www.brianstorti.com/the-actor-model/)\n",
    "* [Elixir offical guide: Processes](https://elixir-lang.org/getting-started/processes.html#spawn)\n",
    "* [Overview of Modern Concurrency and Parallelism Concepts\n",
    "](https://nikolaygrozev.wordpress.com/2015/07/14/overview-of-modern-concurrency-and-parallelism-concepts/)\n",
    "* [Visualizing Concurrency in Go](https://divan.github.io/posts/go_concurrency_visualize/)\n",
    "* [Locks, Actors, And Stm In Pictures](http://adit.io/posts/2013-05-15-Locks,-Actors,-And-STM-In-Pictures.html)\n",
    "* [Dining philosophers problem](https://en.wikipedia.org/wiki/Dining_philosophers_problem)\n",
    "* [Dining philosophers](http://rosettacode.org/wiki/Dining_philosophers)\n",
    "---"
   ]
  },
  {
   "cell_type": "markdown",
   "metadata": {},
   "source": [
    "## Actor model\n",
    "\n",
    "The actor model adopts the philosophy that everything is an actor. This is similar to the everything is an object philosophy used by some object-oriented programming languages.\n",
    "\n",
    "An actor is a computational entity that, in response to a message it receives, can concurrently:\n",
    "\n",
    "send a finite number of messages to other actors;\n",
    "create a finite number of new actors;\n",
    "designate the behavior to be used for the next message it receives.\n",
    "There is no assumed sequence to the above actions and they could be carried out in parallel.\n",
    "\n",
    "Decoupling the sender from communications sent was a fundamental advance of the Actor model enabling asynchronous communication and control structures as patterns of passing messages.\n",
    "\n",
    "Recipients of messages are identified by address, sometimes called \"mailing address\". Thus an actor can only communicate with actors whose addresses it has. It can obtain those from a message it receives, or if the address is for an actor it has itself created.\n",
    "\n",
    "The actor model is characterized by inherent concurrency of computation within and among actors, dynamic creation of actors, inclusion of actor addresses in messages, and interaction only through direct asynchronous message passing with no restriction on message arrival order."
   ]
  },
  {
   "cell_type": "markdown",
   "metadata": {},
   "source": [
    "```elixir\n",
    "defmodule Calc do\n",
    "  def gen(times), do: for(i <- 1..times, do: i)\n",
    "\n",
    "  def split(enumerable) do\n",
    "    enumerable\n",
    "    |> Enum.split(enumerable |> length() |> div(2))\n",
    "  end\n",
    "\n",
    "  def sum(enumerable, pid) do\n",
    "    spawn(fn -> send(pid, {:value, Enum.sum(enumerable)}) end)\n",
    "  end\n",
    "\n",
    "  def receiver() do\n",
    "    receive do\n",
    "      {:value, value} ->\n",
    "        IO.inspect(value)\n",
    "    after\n",
    "      1_000 ->\n",
    "        IO.puts(\"nothing after 1s\")\n",
    "        Process.exit(self(), :normal)\n",
    "    end\n",
    "\n",
    "    receiver()\n",
    "  end\n",
    "end\n",
    "\n",
    "{x, y} = Calc.gen(10000) |> Calc.split()\n",
    "\n",
    "Calc.sum(x, self())\n",
    "Calc.sum(y, self())\n",
    "\n",
    "Calc.receiver()\n",
    "```\n",
    "\n",
    "---"
   ]
  },
  {
   "cell_type": "markdown",
   "metadata": {},
   "source": [
    "## STM (Software Transactional Memory)\n",
    "\n",
    "In computer science, software transactional memory (STM) is a concurrency control mechanism analogous to database transactions for controlling access to shared memory in concurrent computing. It is an alternative to lock-based synchronization. STM is a strategy implemented in software, rather than as a hardware component. A transaction in this context occurs when a piece of code executes a series of reads and writes to shared memory. These reads and writes logically occur at a single instant in time; intermediate states are not visible to other (successful) transactions.\n",
    "\n",
    "Clojure transactions should be easy to understand if you’ve ever used database transactions - they ensure that all actions on Refs are atomic, consistent, and isolated. Atomic means that every change to Refs made within a transaction occurs or none do. Consistent means that each new value can be checked with a validator function before allowing the transaction to commit. Isolated means that no transaction sees the effects of any other transaction while it is running. Another feature common to STMs is that, should a transaction have a conflict while running, it is automatically retried.\n",
    "\n",
    "---"
   ]
  },
  {
   "cell_type": "markdown",
   "metadata": {},
   "source": [
    "## CSP (Communicating Sequential Processes)\n",
    "\n",
    "Communicating Sequential Processes (CSP) is a paradigm which is very similar to the Actor model. It’s also based on message-passing without sharing memory. However, CSP and Actors have these 2 key differences:\n",
    "\n",
    "* Processes in CSP are anonymous, while actors have identities. So, CSP uses explicit channels for message passing, whereas with Actors you send messages directly.\n",
    "* With CSP the sender cannot transmit a message until the receiver is ready to accept it. Actors can send messages asynchronously (e.g. with async calls in Celluloid).\n",
    "\n",
    "CSP is implemented in such programming languages as Go with goroutines and channels, Clojure with the core.async library and Crystal with fibers and channels.\n"
   ]
  },
  {
   "cell_type": "markdown",
   "metadata": {},
   "source": [
    "code example:\n",
    "\n",
    "```go\n",
    "package main\n",
    "\n",
    "import \"fmt\"\n",
    "\n",
    "func sum(s []int, c chan int) {\n",
    "\tsum := 0\n",
    "\tfor _, v := range s {\n",
    "\t\tsum += v\n",
    "\t}\n",
    "\tc <- sum // send sum to c\n",
    "}\n",
    "\n",
    "func gen(t int) []int {\n",
    "\tvar r []int\n",
    "\tfor i := 1; i <= t; i++ {\n",
    "\t\tr = append(r, i)\n",
    "\t}\n",
    "\n",
    "\treturn r\n",
    "}\n",
    "\n",
    "func main() {\n",
    "\ts := gen(10000)\n",
    "\n",
    "\tfmt.Println(s)\n",
    "\n",
    "\tc := make(chan int)\n",
    "\tgo sum(s[:len(s)/2], c)\n",
    "\tgo sum(s[len(s)/2:], c)\n",
    "\tx, y := <-c, <-c // receive from c\n",
    "\n",
    "\tfmt.Println(x, y, x+y)\n",
    "}\n",
    "\n",
    "```\n",
    "\n",
    "---"
   ]
  },
  {
   "cell_type": "markdown",
   "metadata": {},
   "source": [
    "## Question\n",
    "\n",
    "Dining philosophers problem\n",
    "\n",
    "Five philosophers, Aristotle, Kant, Spinoza, Marx, and Russell (the tasks) spend their time thinking and eating spaghetti. They eat at a round table with five individual seats. For eating each philosopher needs two forks (the resources). There are five forks on the table, one left and one right of each seat. When a philosopher cannot grab both forks it sits and waits. Eating takes random time, then the philosopher puts the forks down and leaves the dining room. After spending some random time thinking about the nature of the universe, he again becomes hungry, and the circle repeats itself.\n",
    "\n",
    "It can be observed that a straightforward solution, when forks are implemented by semaphores, is exposed to deadlock. There exist two deadlock states when all five philosophers are sitting at the table holding one fork each. One deadlock state is when each philosopher has grabbed the fork left of him, and another is when each has the fork on his right."
   ]
  }
 ],
 "metadata": {
  "kernelspec": {
   "display_name": "Elixir",
   "language": "Elixir",
   "name": "ielixir"
  },
  "language_info": {
   "codemirror_mode": "elixir",
   "file_extension": "ex",
   "mimetype": "text/x-elixir",
   "name": "elixir",
   "nbconvert_exporter": "",
   "pygments_lexer": "elixir",
   "version": "1.8.1"
  }
 },
 "nbformat": 4,
 "nbformat_minor": 2
}
